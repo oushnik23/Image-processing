{
 "cells": [
  {
   "cell_type": "code",
   "execution_count": 1,
   "metadata": {},
   "outputs": [],
   "source": [
    "import pandas as pd\n",
    "import numpy as np\n",
    "import tensorflow as tf\n",
    "from keras.preprocessing.image import ImageDataGenerator"
   ]
  },
  {
   "cell_type": "code",
   "execution_count": 2,
   "metadata": {},
   "outputs": [],
   "source": [
    "import os\n",
    "os.getcwd()\n",
    "os.chdir(r\"C:\\Users\\Administrator\\Desktop\\PYTHON\\Deep learning\")"
   ]
  },
  {
   "cell_type": "code",
   "execution_count": 3,
   "metadata": {},
   "outputs": [],
   "source": [
    "dataset=ImageDataGenerator(rescale = 1./255,\n",
    "                                   shear_range = 0.2,\n",
    "                                   zoom_range = 0.2,\n",
    "                                   horizontal_flip = True,validation_split=.2)"
   ]
  },
  {
   "cell_type": "code",
   "execution_count": 4,
   "metadata": {},
   "outputs": [
    {
     "name": "stdout",
     "output_type": "stream",
     "text": [
      "Found 2400 images belonging to 2 classes.\n"
     ]
    }
   ],
   "source": [
    "train_data=dataset.flow_from_directory('brain_tumor_dataset 2/dataset',\n",
    "                                 target_size = (64, 64),\n",
    "                                 batch_size = 32,class_mode = 'binary',subset='training')"
   ]
  },
  {
   "cell_type": "code",
   "execution_count": 5,
   "metadata": {},
   "outputs": [
    {
     "name": "stdout",
     "output_type": "stream",
     "text": [
      "Found 600 images belonging to 2 classes.\n"
     ]
    }
   ],
   "source": [
    "test_data=dataset.flow_from_directory('brain_tumor_dataset 2/dataset',\n",
    "                                      target_size = (64, 64),\n",
    "                                 batch_size = 32,class_mode = 'binary',subset='validation')"
   ]
  },
  {
   "cell_type": "markdown",
   "metadata": {},
   "source": [
    "## Initializing the CNN"
   ]
  },
  {
   "cell_type": "code",
   "execution_count": 6,
   "metadata": {},
   "outputs": [],
   "source": [
    "cnn=tf.keras.models.Sequential()"
   ]
  },
  {
   "cell_type": "code",
   "execution_count": 7,
   "metadata": {},
   "outputs": [],
   "source": [
    "cnn.add(tf.keras.layers.Conv2D(filters=32,kernel_size=3,activation='relu',input_shape=[64,64,3]))"
   ]
  },
  {
   "cell_type": "code",
   "execution_count": 8,
   "metadata": {},
   "outputs": [],
   "source": [
    "cnn.add(tf.keras.layers.MaxPool2D(pool_size=2,strides=2))"
   ]
  },
  {
   "cell_type": "code",
   "execution_count": 9,
   "metadata": {},
   "outputs": [],
   "source": [
    "cnn.add(tf.keras.layers.Conv2D(filters=32,kernel_size=3,activation='relu'))\n",
    "cnn.add(tf.keras.layers.MaxPool2D(pool_size=2,strides=2))"
   ]
  },
  {
   "cell_type": "code",
   "execution_count": 10,
   "metadata": {},
   "outputs": [],
   "source": [
    "cnn.add(tf.keras.layers.Flatten())"
   ]
  },
  {
   "cell_type": "code",
   "execution_count": 11,
   "metadata": {},
   "outputs": [],
   "source": [
    "cnn.add(tf.keras.layers.Dense(units=132,activation='relu'))"
   ]
  },
  {
   "cell_type": "code",
   "execution_count": 12,
   "metadata": {},
   "outputs": [],
   "source": [
    "cnn.add(tf.keras.layers.Dense(units=1,activation='sigmoid'))"
   ]
  },
  {
   "cell_type": "code",
   "execution_count": 13,
   "metadata": {},
   "outputs": [],
   "source": [
    "cnn.compile(optimizer='adam',loss='binary_crossentropy',metrics=['accuracy'])"
   ]
  },
  {
   "cell_type": "code",
   "execution_count": 14,
   "metadata": {},
   "outputs": [
    {
     "name": "stdout",
     "output_type": "stream",
     "text": [
      "Model: \"sequential\"\n",
      "_________________________________________________________________\n",
      " Layer (type)                Output Shape              Param #   \n",
      "=================================================================\n",
      " conv2d (Conv2D)             (None, 62, 62, 32)        896       \n",
      "                                                                 \n",
      " max_pooling2d (MaxPooling2D  (None, 31, 31, 32)       0         \n",
      " )                                                               \n",
      "                                                                 \n",
      " conv2d_1 (Conv2D)           (None, 29, 29, 32)        9248      \n",
      "                                                                 \n",
      " max_pooling2d_1 (MaxPooling  (None, 14, 14, 32)       0         \n",
      " 2D)                                                             \n",
      "                                                                 \n",
      " flatten (Flatten)           (None, 6272)              0         \n",
      "                                                                 \n",
      " dense (Dense)               (None, 132)               828036    \n",
      "                                                                 \n",
      " dense_1 (Dense)             (None, 1)                 133       \n",
      "                                                                 \n",
      "=================================================================\n",
      "Total params: 838,313\n",
      "Trainable params: 838,313\n",
      "Non-trainable params: 0\n",
      "_________________________________________________________________\n"
     ]
    }
   ],
   "source": [
    "cnn.summary()"
   ]
  },
  {
   "cell_type": "code",
   "execution_count": 15,
   "metadata": {},
   "outputs": [
    {
     "name": "stdout",
     "output_type": "stream",
     "text": [
      "Epoch 1/25\n",
      "75/75 [==============================] - 64s 844ms/step - loss: 0.5706 - accuracy: 0.6954 - val_loss: 0.5290 - val_accuracy: 0.7617\n",
      "Epoch 2/25\n",
      "75/75 [==============================] - 15s 204ms/step - loss: 0.4837 - accuracy: 0.7721 - val_loss: 0.5549 - val_accuracy: 0.7083\n",
      "Epoch 3/25\n",
      "75/75 [==============================] - 15s 201ms/step - loss: 0.4137 - accuracy: 0.8158 - val_loss: 0.5912 - val_accuracy: 0.6967\n",
      "Epoch 4/25\n",
      "75/75 [==============================] - 15s 203ms/step - loss: 0.3770 - accuracy: 0.8458 - val_loss: 0.4421 - val_accuracy: 0.8150\n",
      "Epoch 5/25\n",
      "75/75 [==============================] - 15s 202ms/step - loss: 0.3458 - accuracy: 0.8479 - val_loss: 0.4673 - val_accuracy: 0.7983\n",
      "Epoch 6/25\n",
      "75/75 [==============================] - 15s 202ms/step - loss: 0.3123 - accuracy: 0.8708 - val_loss: 0.3580 - val_accuracy: 0.8450\n",
      "Epoch 7/25\n",
      "75/75 [==============================] - 15s 204ms/step - loss: 0.3135 - accuracy: 0.8696 - val_loss: 0.3417 - val_accuracy: 0.8567\n",
      "Epoch 8/25\n",
      "75/75 [==============================] - 15s 202ms/step - loss: 0.3167 - accuracy: 0.8696 - val_loss: 0.3876 - val_accuracy: 0.8283\n",
      "Epoch 9/25\n",
      "75/75 [==============================] - 15s 203ms/step - loss: 0.2467 - accuracy: 0.8983 - val_loss: 0.2924 - val_accuracy: 0.8867\n",
      "Epoch 10/25\n",
      "75/75 [==============================] - 16s 208ms/step - loss: 0.2459 - accuracy: 0.9038 - val_loss: 0.2791 - val_accuracy: 0.8833\n",
      "Epoch 11/25\n",
      "75/75 [==============================] - 15s 204ms/step - loss: 0.2124 - accuracy: 0.9225 - val_loss: 0.2548 - val_accuracy: 0.9000\n",
      "Epoch 12/25\n",
      "75/75 [==============================] - 15s 205ms/step - loss: 0.1905 - accuracy: 0.9308 - val_loss: 0.2279 - val_accuracy: 0.9150\n",
      "Epoch 13/25\n",
      "75/75 [==============================] - 15s 203ms/step - loss: 0.1721 - accuracy: 0.9304 - val_loss: 0.2105 - val_accuracy: 0.9167\n",
      "Epoch 14/25\n",
      "75/75 [==============================] - 15s 202ms/step - loss: 0.1701 - accuracy: 0.9383 - val_loss: 0.1987 - val_accuracy: 0.9317\n",
      "Epoch 15/25\n",
      "75/75 [==============================] - 15s 203ms/step - loss: 0.1714 - accuracy: 0.9379 - val_loss: 0.2293 - val_accuracy: 0.9233\n",
      "Epoch 16/25\n",
      "75/75 [==============================] - 15s 207ms/step - loss: 0.1343 - accuracy: 0.9542 - val_loss: 0.1306 - val_accuracy: 0.9583\n",
      "Epoch 17/25\n",
      "75/75 [==============================] - 15s 206ms/step - loss: 0.1250 - accuracy: 0.9538 - val_loss: 0.1374 - val_accuracy: 0.9433\n",
      "Epoch 18/25\n",
      "75/75 [==============================] - 15s 203ms/step - loss: 0.1067 - accuracy: 0.9642 - val_loss: 0.1320 - val_accuracy: 0.9583\n",
      "Epoch 19/25\n",
      "75/75 [==============================] - 15s 204ms/step - loss: 0.1179 - accuracy: 0.9558 - val_loss: 0.1194 - val_accuracy: 0.9517\n",
      "Epoch 20/25\n",
      "75/75 [==============================] - 15s 203ms/step - loss: 0.0828 - accuracy: 0.9725 - val_loss: 0.1253 - val_accuracy: 0.9517\n",
      "Epoch 21/25\n",
      "75/75 [==============================] - 16s 210ms/step - loss: 0.0948 - accuracy: 0.9696 - val_loss: 0.1169 - val_accuracy: 0.9650\n",
      "Epoch 22/25\n",
      "75/75 [==============================] - 15s 203ms/step - loss: 0.0908 - accuracy: 0.9679 - val_loss: 0.1152 - val_accuracy: 0.9583\n",
      "Epoch 23/25\n",
      "75/75 [==============================] - 15s 203ms/step - loss: 0.0885 - accuracy: 0.9721 - val_loss: 0.0915 - val_accuracy: 0.9633\n",
      "Epoch 24/25\n",
      "75/75 [==============================] - 15s 202ms/step - loss: 0.0679 - accuracy: 0.9767 - val_loss: 0.0880 - val_accuracy: 0.9683\n",
      "Epoch 25/25\n",
      "75/75 [==============================] - 15s 204ms/step - loss: 0.0659 - accuracy: 0.9792 - val_loss: 0.1744 - val_accuracy: 0.9367\n"
     ]
    },
    {
     "data": {
      "text/plain": [
       "<keras.callbacks.History at 0x1d892988fc8>"
      ]
     },
     "execution_count": 15,
     "metadata": {},
     "output_type": "execute_result"
    }
   ],
   "source": [
    "cnn.fit(x=train_data,validation_data=test_data,epochs=25)"
   ]
  },
  {
   "cell_type": "code",
   "execution_count": 16,
   "metadata": {},
   "outputs": [
    {
     "name": "stderr",
     "output_type": "stream",
     "text": [
      "C:\\ProgramData\\Anaconda3\\lib\\site-packages\\ipykernel_launcher.py:1: UserWarning: `Model.evaluate_generator` is deprecated and will be removed in a future version. Please use `Model.evaluate`, which supports generators.\n",
      "  \"\"\"Entry point for launching an IPython kernel.\n"
     ]
    }
   ],
   "source": [
    "accuracy_cnn=cnn.evaluate_generator(generator=test_data)[1]"
   ]
  },
  {
   "cell_type": "code",
   "execution_count": 17,
   "metadata": {},
   "outputs": [
    {
     "name": "stdout",
     "output_type": "stream",
     "text": [
      "19/19 [==============================] - 3s 177ms/step - loss: 0.1402 - accuracy: 0.9433\n"
     ]
    }
   ],
   "source": [
    "accuracy=cnn.evaluate(test_data)[1]"
   ]
  },
  {
   "cell_type": "code",
   "execution_count": 18,
   "metadata": {},
   "outputs": [
    {
     "name": "stdout",
     "output_type": "stream",
     "text": [
      "The accuracy of the model is = 93.99999976158142 %\n"
     ]
    }
   ],
   "source": [
    "print(f\"The accuracy of the model is = {accuracy_cnn*100} %\")"
   ]
  },
  {
   "cell_type": "code",
   "execution_count": 19,
   "metadata": {},
   "outputs": [
    {
     "name": "stdout",
     "output_type": "stream",
     "text": [
      "Accuracy is 94.33333277702332%\n"
     ]
    }
   ],
   "source": [
    "print(f\"Accuracy is {accuracy*100}%\")"
   ]
  },
  {
   "cell_type": "code",
   "execution_count": 20,
   "metadata": {},
   "outputs": [],
   "source": [
    "from keras.preprocessing import image"
   ]
  },
  {
   "cell_type": "code",
   "execution_count": 21,
   "metadata": {},
   "outputs": [],
   "source": [
    "test_image=image.load_img('brain_tumor_dataset 2/pred/pred15.jpg',target_size = (64, 64))"
   ]
  },
  {
   "cell_type": "code",
   "execution_count": 22,
   "metadata": {},
   "outputs": [],
   "source": [
    "test_image2=image.array_to_img(test_image)\n",
    "test_image2=np.expand_dims(test_image2,axis=0)\n",
    "result=cnn.predict(test_image2)"
   ]
  },
  {
   "cell_type": "code",
   "execution_count": 23,
   "metadata": {},
   "outputs": [
    {
     "data": {
      "text/plain": [
       "{'no': 0, 'yes': 1}"
      ]
     },
     "execution_count": 23,
     "metadata": {},
     "output_type": "execute_result"
    }
   ],
   "source": [
    "train_data.class_indices"
   ]
  },
  {
   "cell_type": "code",
   "execution_count": 24,
   "metadata": {},
   "outputs": [],
   "source": [
    "if result[0][0]==1:\n",
    "    prediction='yes'\n",
    "else:\n",
    "    prediction='no'"
   ]
  },
  {
   "cell_type": "code",
   "execution_count": 25,
   "metadata": {},
   "outputs": [
    {
     "name": "stdout",
     "output_type": "stream",
     "text": [
      "no\n"
     ]
    }
   ],
   "source": [
    "print(prediction)"
   ]
  },
  {
   "cell_type": "code",
   "execution_count": 27,
   "metadata": {},
   "outputs": [],
   "source": [
    "y_pred=cnn.predict(test_data)"
   ]
  },
  {
   "cell_type": "code",
   "execution_count": 28,
   "metadata": {},
   "outputs": [],
   "source": [
    "from sklearn.metrics import classification_report"
   ]
  },
  {
   "cell_type": "code",
   "execution_count": null,
   "metadata": {},
   "outputs": [],
   "source": [
    "classification_report(np.argmax(test_data,axis=1),np.argmax(y_pred,axis=1))"
   ]
  },
  {
   "cell_type": "code",
   "execution_count": null,
   "metadata": {},
   "outputs": [],
   "source": []
  }
 ],
 "metadata": {
  "kernelspec": {
   "display_name": "Python 3",
   "language": "python",
   "name": "python3"
  },
  "language_info": {
   "codemirror_mode": {
    "name": "ipython",
    "version": 3
   },
   "file_extension": ".py",
   "mimetype": "text/x-python",
   "name": "python",
   "nbconvert_exporter": "python",
   "pygments_lexer": "ipython3",
   "version": "3.7.4"
  }
 },
 "nbformat": 4,
 "nbformat_minor": 2
}
